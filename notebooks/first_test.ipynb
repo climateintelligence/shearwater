{
 "cells": [
  {
   "cell_type": "code",
   "execution_count": 1,
   "id": "572a0c7b-1375-4b41-aae3-4cf61428f95b",
   "metadata": {},
   "outputs": [
    {
     "name": "stderr",
     "output_type": "stream",
     "text": [
      "2024-10-09 15:31:06.243530: I tensorflow/core/platform/cpu_feature_guard.cc:182] This TensorFlow binary is optimized to use available CPU instructions in performance-critical operations.\n",
      "To enable the following instructions: SSE4.1 SSE4.2 AVX AVX2 FMA, in other operations, rebuild TensorFlow with the appropriate compiler flags.\n"
     ]
    }
   ],
   "source": [
    "import numpy as np\n",
    "import pandas as pd\n",
    "from birdy import WPSClient\n",
    "from keras import models"
   ]
  },
  {
   "cell_type": "code",
   "execution_count": 2,
   "id": "630ce3f7-9ab7-484d-82a2-f0c4e5a277c1",
   "metadata": {
    "scrolled": true
   },
   "outputs": [
    {
     "name": "stdout",
     "output_type": "stream",
     "text": [
      "Help on WPSClient in module birdy.client.base:\n",
      "\n",
      "<birdy.client.base.WPSClient object>\n",
      "    A WPS for forecasting ctropical-cyclone activities.\n",
      "    \n",
      "    Processes\n",
      "    ---------\n",
      "    \n",
      "    cyclone\n",
      "        A process to forecast tropical cyclone activity.\n",
      "\n"
     ]
    }
   ],
   "source": [
    "url = \"http://localhost:5000/wps\"\n",
    "wps = WPSClient(url, verify=False)\n",
    "help(wps)"
   ]
  },
  {
   "cell_type": "code",
   "execution_count": 3,
   "id": "c5419eca-ac01-43ed-b54b-861f4232b69d",
   "metadata": {},
   "outputs": [
    {
     "name": "stdout",
     "output_type": "stream",
     "text": [
      "1\n",
      "2\n",
      "3\n",
      "4\n",
      "5\n",
      "6\n",
      "7\n",
      "8\n",
      "9\n",
      "10\n",
      "<birdy.client.utils.WPSExecution object at 0x7fffd64dde50>\n",
      "cycloneResponse(\n",
      "    output_csv='http://localhost:5000/outputs/fb83d6d6-8642-11ef-a4d8-080038c050cd/tcactivity_48_17_20220110_lag0_Sindian.csv',\n",
      "    output_png='http://localhost:5000/outputs/fb83d6d6-8642-11ef-a4d8-080038c050cd/tcactivity_48_17_20220110_lag0_Sindian.1.png'\n",
      ")\n",
      "11\n",
      "<birdy.client.utils.WPSExecution object at 0x7fff67dadf10>\n",
      "cycloneResponse(\n",
      "    output_csv='http://localhost:5000/outputs/ffc3a302-8642-11ef-a0b8-080038c050cd/tcactivity_48_17_20220111_lag0_Sindian.csv',\n",
      "    output_png='http://localhost:5000/outputs/ffc3a302-8642-11ef-a0b8-080038c050cd/tcactivity_48_17_20220111_lag0_Sindian.1.png'\n",
      ")\n",
      "12\n",
      "<birdy.client.utils.WPSExecution object at 0x7fff67dae810>\n",
      "cycloneResponse(\n",
      "    output_csv='http://localhost:5000/outputs/03fc9e92-8643-11ef-b827-080038c050cd/tcactivity_48_17_20220112_lag0_Sindian.csv',\n",
      "    output_png='http://localhost:5000/outputs/03fc9e92-8643-11ef-b827-080038c050cd/tcactivity_48_17_20220112_lag0_Sindian.1.png'\n",
      ")\n",
      "13\n",
      "<birdy.client.utils.WPSExecution object at 0x7fff67dafc90>\n",
      "cycloneResponse(\n",
      "    output_csv='http://localhost:5000/outputs/086ee818-8643-11ef-b346-080038c050cd/tcactivity_48_17_20220113_lag0_Sindian.csv',\n",
      "    output_png='http://localhost:5000/outputs/086ee818-8643-11ef-b346-080038c050cd/tcactivity_48_17_20220113_lag0_Sindian.1.png'\n",
      ")\n",
      "14\n",
      "<birdy.client.utils.WPSExecution object at 0x7fff67dae510>\n",
      "cycloneResponse(\n",
      "    output_csv='http://localhost:5000/outputs/0cebfd68-8643-11ef-9b64-080038c050cd/tcactivity_48_17_20220114_lag0_Sindian.csv',\n",
      "    output_png='http://localhost:5000/outputs/0cebfd68-8643-11ef-9b64-080038c050cd/tcactivity_48_17_20220114_lag0_Sindian.1.png'\n",
      ")\n",
      "15\n",
      "<birdy.client.utils.WPSExecution object at 0x7fff67dad890>\n",
      "cycloneResponse(\n",
      "    output_csv='http://localhost:5000/outputs/11572d82-8643-11ef-b903-080038c050cd/tcactivity_48_17_20220115_lag0_Sindian.csv',\n",
      "    output_png='http://localhost:5000/outputs/11572d82-8643-11ef-b903-080038c050cd/tcactivity_48_17_20220115_lag0_Sindian.1.png'\n",
      ")\n",
      "16\n",
      "<birdy.client.utils.WPSExecution object at 0x7fff67dafcd0>\n",
      "cycloneResponse(\n",
      "    output_csv='http://localhost:5000/outputs/15b228f0-8643-11ef-aca6-080038c050cd/tcactivity_48_17_20220116_lag0_Sindian.csv',\n",
      "    output_png='http://localhost:5000/outputs/15b228f0-8643-11ef-aca6-080038c050cd/tcactivity_48_17_20220116_lag0_Sindian.1.png'\n",
      ")\n",
      "17\n",
      "<birdy.client.utils.WPSExecution object at 0x7fff67dae850>\n",
      "cycloneResponse(\n",
      "    output_csv='http://localhost:5000/outputs/1a1d0d24-8643-11ef-8eb5-080038c050cd/tcactivity_48_17_20220117_lag0_Sindian.csv',\n",
      "    output_png='http://localhost:5000/outputs/1a1d0d24-8643-11ef-8eb5-080038c050cd/tcactivity_48_17_20220117_lag0_Sindian.1.png'\n",
      ")\n",
      "18\n",
      "<birdy.client.utils.WPSExecution object at 0x7fff67daf310>\n",
      "cycloneResponse(\n",
      "    output_csv='http://localhost:5000/outputs/1e73d948-8643-11ef-9f86-080038c050cd/tcactivity_48_17_20220118_lag0_Sindian.csv',\n",
      "    output_png='http://localhost:5000/outputs/1e73d948-8643-11ef-9f86-080038c050cd/tcactivity_48_17_20220118_lag0_Sindian.1.png'\n",
      ")\n",
      "19\n",
      "<birdy.client.utils.WPSExecution object at 0x7fff67de4910>\n",
      "cycloneResponse(\n",
      "    output_csv='http://localhost:5000/outputs/22c023b2-8643-11ef-8a42-080038c050cd/tcactivity_48_17_20220119_lag0_Sindian.csv',\n",
      "    output_png='http://localhost:5000/outputs/22c023b2-8643-11ef-8a42-080038c050cd/tcactivity_48_17_20220119_lag0_Sindian.1.png'\n",
      ")\n",
      "20\n",
      "<birdy.client.utils.WPSExecution object at 0x7fff67de7f50>\n",
      "cycloneResponse(\n",
      "    output_csv='http://localhost:5000/outputs/27506478-8643-11ef-b0e5-080038c050cd/tcactivity_48_17_20220120_lag0_Sindian.csv',\n",
      "    output_png='http://localhost:5000/outputs/27506478-8643-11ef-b0e5-080038c050cd/tcactivity_48_17_20220120_lag0_Sindian.1.png'\n",
      ")\n",
      "21\n",
      "<birdy.client.utils.WPSExecution object at 0x7fff67de7490>\n",
      "cycloneResponse(\n",
      "    output_csv='http://localhost:5000/outputs/2ba0bfbe-8643-11ef-88e1-080038c050cd/tcactivity_48_17_20220121_lag0_Sindian.csv',\n",
      "    output_png='http://localhost:5000/outputs/2ba0bfbe-8643-11ef-88e1-080038c050cd/tcactivity_48_17_20220121_lag0_Sindian.1.png'\n",
      ")\n",
      "22\n",
      "<birdy.client.utils.WPSExecution object at 0x7fff67de4210>\n",
      "cycloneResponse(\n",
      "    output_csv='http://localhost:5000/outputs/2ff22792-8643-11ef-9947-080038c050cd/tcactivity_48_17_20220122_lag0_Sindian.csv',\n",
      "    output_png='http://localhost:5000/outputs/2ff22792-8643-11ef-9947-080038c050cd/tcactivity_48_17_20220122_lag0_Sindian.1.png'\n",
      ")\n",
      "23\n",
      "<birdy.client.utils.WPSExecution object at 0x7fff67da7bd0>\n",
      "cycloneResponse(\n",
      "    output_csv='http://localhost:5000/outputs/345a6380-8643-11ef-88de-080038c050cd/tcactivity_48_17_20220123_lag0_Sindian.csv',\n",
      "    output_png='http://localhost:5000/outputs/345a6380-8643-11ef-88de-080038c050cd/tcactivity_48_17_20220123_lag0_Sindian.1.png'\n",
      ")\n",
      "24\n",
      "<birdy.client.utils.WPSExecution object at 0x7fff67da5d90>\n",
      "cycloneResponse(\n",
      "    output_csv='http://localhost:5000/outputs/38a8d9bc-8643-11ef-bf44-080038c050cd/tcactivity_48_17_20220124_lag0_Sindian.csv',\n",
      "    output_png='http://localhost:5000/outputs/38a8d9bc-8643-11ef-bf44-080038c050cd/tcactivity_48_17_20220124_lag0_Sindian.1.png'\n",
      ")\n",
      "25\n",
      "<birdy.client.utils.WPSExecution object at 0x7fff67da7c50>\n",
      "cycloneResponse(\n",
      "    output_csv='http://localhost:5000/outputs/3cf6da00-8643-11ef-a8fd-080038c050cd/tcactivity_48_17_20220125_lag0_Sindian.csv',\n",
      "    output_png='http://localhost:5000/outputs/3cf6da00-8643-11ef-a8fd-080038c050cd/tcactivity_48_17_20220125_lag0_Sindian.1.png'\n",
      ")\n",
      "26\n",
      "<birdy.client.utils.WPSExecution object at 0x7fff67da4390>\n",
      "cycloneResponse(\n",
      "    output_csv='http://localhost:5000/outputs/414032e6-8643-11ef-9229-080038c050cd/tcactivity_48_17_20220126_lag0_Sindian.csv',\n",
      "    output_png='http://localhost:5000/outputs/414032e6-8643-11ef-9229-080038c050cd/tcactivity_48_17_20220126_lag0_Sindian.1.png'\n",
      ")\n",
      "27\n",
      "<birdy.client.utils.WPSExecution object at 0x7fff67de5450>\n",
      "cycloneResponse(\n",
      "    output_csv='http://localhost:5000/outputs/458f8b1c-8643-11ef-acce-080038c050cd/tcactivity_48_17_20220127_lag0_Sindian.csv',\n",
      "    output_png='http://localhost:5000/outputs/458f8b1c-8643-11ef-acce-080038c050cd/tcactivity_48_17_20220127_lag0_Sindian.1.png'\n",
      ")\n",
      "28\n",
      "<birdy.client.utils.WPSExecution object at 0x7fff67da5910>\n",
      "cycloneResponse(\n",
      "    output_csv='http://localhost:5000/outputs/49e9ace2-8643-11ef-8108-080038c050cd/tcactivity_48_17_20220128_lag0_Sindian.csv',\n",
      "    output_png='http://localhost:5000/outputs/49e9ace2-8643-11ef-8108-080038c050cd/tcactivity_48_17_20220128_lag0_Sindian.1.png'\n",
      ")\n",
      "29\n",
      "<birdy.client.utils.WPSExecution object at 0x7fff67d84f10>\n",
      "cycloneResponse(\n",
      "    output_csv='http://localhost:5000/outputs/4e399794-8643-11ef-b50c-080038c050cd/tcactivity_48_17_20220129_lag0_Sindian.csv',\n",
      "    output_png='http://localhost:5000/outputs/4e399794-8643-11ef-b50c-080038c050cd/tcactivity_48_17_20220129_lag0_Sindian.1.png'\n",
      ")\n"
     ]
    }
   ],
   "source": [
    "for day in range(1,30):\n",
    "    print(day)\n",
    "    if day<10:\n",
    "        resp = wps.cyclone(init_date=f\"2022-01-0{day}\", leadtime=\"0-48 h\", region=\"Southern Indian\")\n",
    "    else:\n",
    "        resp = wps.cyclone(init_date=f\"2022-01-{day}\", leadtime=\"0-48 h\", region=\"Southern Indian\")\n",
    "        print(resp)\n",
    "        print(resp.get())\n"
   ]
  },
  {
   "cell_type": "code",
   "execution_count": null,
   "id": "321eae5a-97fc-47b6-b3d2-355326213ffa",
   "metadata": {},
   "outputs": [],
   "source": []
  },
  {
   "cell_type": "code",
   "execution_count": 4,
   "id": "fcc0024d-1374-4084-a24d-8d094508fa9a",
   "metadata": {},
   "outputs": [
    {
     "name": "stdout",
     "output_type": "stream",
     "text": [
      "<birdy.client.utils.WPSExecution object at 0x7fff67dc5890>\n"
     ]
    },
    {
     "data": {
      "text/plain": [
       "cycloneResponse(\n",
       "    output_csv='http://localhost:5000/outputs/bac8a806-8624-11ef-9aeb-080038c050cd/tcactivity_48_17_20240701_lag0_Sindian.csv',\n",
       "    output_png='http://localhost:5000/outputs/bac8a806-8624-11ef-9aeb-080038c050cd/tcactivity_48_17_20240701_lag0_Sindian.1.png'\n",
       ")"
      ]
     },
     "execution_count": 4,
     "metadata": {},
     "output_type": "execute_result"
    }
   ],
   "source": [
    "resp = wps.cyclone(init_date=\"2024-07-01\", leadtime=\"0-48 h\", region=\"North Atlantic\")\n",
    "print(resp)\n",
    "resp.get()"
   ]
  },
  {
   "cell_type": "code",
   "execution_count": 5,
   "id": "dc2b0678-6b9a-4c45-8152-30b293ae434d",
   "metadata": {},
   "outputs": [
    {
     "name": "stdout",
     "output_type": "stream",
     "text": [
      "<birdy.client.utils.WPSExecution object at 0x7fff67d912d0>\n"
     ]
    },
    {
     "data": {
      "text/plain": [
       "cycloneResponse(\n",
       "    output_csv='http://localhost:5000/outputs/c0ccdac4-8624-11ef-a84c-080038c050cd/tcactivity_48_17_20240629_lag2_Sindian.csv',\n",
       "    output_png='http://localhost:5000/outputs/c0ccdac4-8624-11ef-a84c-080038c050cd/tcactivity_48_17_20240629_lag2_Sindian.1.png'\n",
       ")"
      ]
     },
     "execution_count": 5,
     "metadata": {},
     "output_type": "execute_result"
    }
   ],
   "source": [
    "resp = wps.cyclone(init_date=\"2024-06-29\", leadtime=\"48-96 h\", region=\"North Atlantic\")\n",
    "print(resp)\n",
    "resp.get()"
   ]
  },
  {
   "cell_type": "code",
   "execution_count": null,
   "id": "85251270-6efb-413b-892d-63372ad41e3a",
   "metadata": {},
   "outputs": [],
   "source": []
  }
 ],
 "metadata": {
  "kernelspec": {
   "display_name": "shearwater",
   "language": "python",
   "name": "shearwater"
  },
  "language_info": {
   "codemirror_mode": {
    "name": "ipython",
    "version": 3
   },
   "file_extension": ".py",
   "mimetype": "text/x-python",
   "name": "python",
   "nbconvert_exporter": "python",
   "pygments_lexer": "ipython3",
   "version": "3.11.10"
  }
 },
 "nbformat": 4,
 "nbformat_minor": 5
}
