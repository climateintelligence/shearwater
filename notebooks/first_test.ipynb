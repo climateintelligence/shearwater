{
 "cells": [
  {
   "cell_type": "code",
   "execution_count": 1,
   "id": "572a0c7b-1375-4b41-aae3-4cf61428f95b",
   "metadata": {},
   "outputs": [
    {
     "name": "stderr",
     "output_type": "stream",
     "text": [
      "2024-10-09 17:25:33.409107: I tensorflow/core/platform/cpu_feature_guard.cc:182] This TensorFlow binary is optimized to use available CPU instructions in performance-critical operations.\n",
      "To enable the following instructions: SSE4.1 SSE4.2 AVX AVX2 FMA, in other operations, rebuild TensorFlow with the appropriate compiler flags.\n"
     ]
    }
   ],
   "source": [
    "import numpy as np\n",
    "import pandas as pd\n",
    "from birdy import WPSClient\n",
    "from keras import models"
   ]
  },
  {
   "cell_type": "code",
   "execution_count": 2,
   "id": "630ce3f7-9ab7-484d-82a2-f0c4e5a277c1",
   "metadata": {
    "scrolled": true
   },
   "outputs": [
    {
     "name": "stdout",
     "output_type": "stream",
     "text": [
      "Help on WPSClient in module birdy.client.base:\n",
      "\n",
      "<birdy.client.base.WPSClient object>\n",
      "    A WPS for forecasting ctropical-cyclone activities.\n",
      "    \n",
      "    Processes\n",
      "    ---------\n",
      "    \n",
      "    cyclone\n",
      "        A process to forecast tropical cyclone activity.\n",
      "\n"
     ]
    }
   ],
   "source": [
    "url = \"http://localhost:5000/wps\"\n",
    "# url = \"https://shearwater.copernicus-climate.eu/wps\"\n",
    "\n",
    "wps = WPSClient(url, verify=False)\n",
    "help(wps)"
   ]
  },
  {
   "cell_type": "code",
   "execution_count": 4,
   "id": "c5419eca-ac01-43ed-b54b-861f4232b69d",
   "metadata": {},
   "outputs": [],
   "source": [
    "# for day in range(1,30):\n",
    "#     print(day)\n",
    "#     if day<10:\n",
    "#         resp = wps.cyclone(init_date=f\"2022-01-0{day}\", leadtime=\"0-48 h\", region=\"Southern Indian\")\n",
    "#     else:\n",
    "#         resp = wps.cyclone(init_date=f\"2022-01-{day}\", leadtime=\"0-48 h\", region=\"Southern Indian\")\n",
    "#         print(resp)\n",
    "#         print(resp.get())\n",
    "# "
   ]
  },
  {
   "cell_type": "code",
   "execution_count": 4,
   "id": "fcc0024d-1374-4084-a24d-8d094508fa9a",
   "metadata": {},
   "outputs": [
    {
     "name": "stdout",
     "output_type": "stream",
     "text": [
      "<birdy.client.utils.WPSExecution object at 0x7fff67dc5890>\n"
     ]
    },
    {
     "data": {
      "text/plain": [
       "cycloneResponse(\n",
       "    output_csv='http://localhost:5000/outputs/bac8a806-8624-11ef-9aeb-080038c050cd/tcactivity_48_17_20240701_lag0_Sindian.csv',\n",
       "    output_png='http://localhost:5000/outputs/bac8a806-8624-11ef-9aeb-080038c050cd/tcactivity_48_17_20240701_lag0_Sindian.1.png'\n",
       ")"
      ]
     },
     "execution_count": 4,
     "metadata": {},
     "output_type": "execute_result"
    }
   ],
   "source": [
    "resp = wps.cyclone(init_date=\"2024-07-01\", leadtime=\"0-48 h\", region=\"North Atlantic\")\n",
    "print(resp)\n",
    "resp.get()"
   ]
  },
  {
   "cell_type": "code",
   "execution_count": 3,
   "id": "dc2b0678-6b9a-4c45-8152-30b293ae434d",
   "metadata": {},
   "outputs": [
    {
     "name": "stdout",
     "output_type": "stream",
     "text": [
      "<birdy.client.utils.WPSExecution object at 0x7fff67da5f10>\n"
     ]
    },
    {
     "ename": "ProcessFailed",
     "evalue": "Sorry, process failed.",
     "output_type": "error",
     "traceback": [
      "\u001b[0;31m---------------------------------------------------------------------------\u001b[0m",
      "\u001b[0;31mProcessFailed\u001b[0m                             Traceback (most recent call last)",
      "Cell \u001b[0;32mIn[3], line 3\u001b[0m\n\u001b[1;32m      1\u001b[0m resp \u001b[38;5;241m=\u001b[39m wps\u001b[38;5;241m.\u001b[39mcyclone(init_date\u001b[38;5;241m=\u001b[39m\u001b[38;5;124m\"\u001b[39m\u001b[38;5;124m2024-06-29\u001b[39m\u001b[38;5;124m\"\u001b[39m, leadtime\u001b[38;5;241m=\u001b[39m\u001b[38;5;124m\"\u001b[39m\u001b[38;5;124m48-96 h\u001b[39m\u001b[38;5;124m\"\u001b[39m, region\u001b[38;5;241m=\u001b[39m\u001b[38;5;124m\"\u001b[39m\u001b[38;5;124mNorth Atlantic\u001b[39m\u001b[38;5;124m\"\u001b[39m)\n\u001b[1;32m      2\u001b[0m \u001b[38;5;28mprint\u001b[39m(resp)\n\u001b[0;32m----> 3\u001b[0m \u001b[43mresp\u001b[49m\u001b[38;5;241;43m.\u001b[39;49m\u001b[43mget\u001b[49m\u001b[43m(\u001b[49m\u001b[43m)\u001b[49m\n",
      "File \u001b[0;32m/work/bk1318/b382633/conda/envs/shearwater/lib/python3.11/site-packages/birdy/client/outputs.py:40\u001b[0m, in \u001b[0;36mWPSResult.get\u001b[0;34m(self, asobj)\u001b[0m\n\u001b[1;32m     37\u001b[0m     \u001b[38;5;28;01mraise\u001b[39;00m ProcessIsNotComplete(\u001b[38;5;124m\"\u001b[39m\u001b[38;5;124mPlease wait ...\u001b[39m\u001b[38;5;124m\"\u001b[39m)\n\u001b[1;32m     38\u001b[0m \u001b[38;5;28;01mif\u001b[39;00m \u001b[38;5;129;01mnot\u001b[39;00m \u001b[38;5;28mself\u001b[39m\u001b[38;5;241m.\u001b[39misSucceded():\n\u001b[1;32m     39\u001b[0m     \u001b[38;5;66;03m# TODO: add reason for failure\u001b[39;00m\n\u001b[0;32m---> 40\u001b[0m     \u001b[38;5;28;01mraise\u001b[39;00m ProcessFailed(\u001b[38;5;124m\"\u001b[39m\u001b[38;5;124mSorry, process failed.\u001b[39m\u001b[38;5;124m\"\u001b[39m)\n\u001b[1;32m     41\u001b[0m \u001b[38;5;28;01mreturn\u001b[39;00m \u001b[38;5;28mself\u001b[39m\u001b[38;5;241m.\u001b[39m_make_output(asobj)\n",
      "\u001b[0;31mProcessFailed\u001b[0m: Sorry, process failed."
     ]
    }
   ],
   "source": [
    "resp = wps.cyclone(init_date=\"2024-06-29\", leadtime=\"48-96 h\", region=\"North Atlantic\")\n",
    "print(resp)\n",
    "resp.get()"
   ]
  },
  {
   "cell_type": "code",
   "execution_count": null,
   "id": "85251270-6efb-413b-892d-63372ad41e3a",
   "metadata": {},
   "outputs": [],
   "source": []
  }
 ],
 "metadata": {
  "kernelspec": {
   "display_name": "shearwater",
   "language": "python",
   "name": "shearwater"
  },
  "language_info": {
   "codemirror_mode": {
    "name": "ipython",
    "version": 3
   },
   "file_extension": ".py",
   "mimetype": "text/x-python",
   "name": "python",
   "nbconvert_exporter": "python",
   "pygments_lexer": "ipython3",
   "version": "3.11.10"
  }
 },
 "nbformat": 4,
 "nbformat_minor": 5
}
